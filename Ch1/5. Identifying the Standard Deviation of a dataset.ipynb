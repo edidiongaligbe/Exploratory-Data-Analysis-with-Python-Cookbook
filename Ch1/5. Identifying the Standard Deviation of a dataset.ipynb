{
 "cells": [
  {
   "cell_type": "markdown",
   "id": "38ffd205",
   "metadata": {},
   "source": [
    "### <b>Standard Deviation</b>\n",
    "\n",
    "Both variance and standard deviation provide information about the variability or spread of data points in a dataset. Variance is in squared units, while standard deviation is in the original units of the data. The choice between them often depends on the context and the need for interpretability.\n",
    "\n",
    "Certainly! Let's use a simple example to understand how standard deviation helps in statistics. Consider the test scores of two students, Alex and Bailey, in three subjects: Math, English, and Science.\n",
    "\n",
    "**Alex's Scores:**\n",
    "- Math: 80\n",
    "- English: 85\n",
    "- Science: 75\n",
    "\n",
    "**Bailey's Scores:**\n",
    "- Math: 90\n",
    "- English: 82\n",
    "- Science: 88\n",
    "\n",
    "Now, let's calculate the standard deviation for each student's scores to see how spread out the scores are:\n",
    "\n",
    "**Alex's Scores:**\n",
    "1. Find the mean (average) score:\n",
    "   Mean = (80 + 85 + 75) / 3  = 80 \n",
    "\n",
    "2. Calculate the squared differences from the mean for each score:\n",
    "   (80 - 80)^2 = 0, (85 - 80)^2 = 25, (75 - 80)^2 = 25 \n",
    "\n",
    "3. Find the average of these squared differences:\n",
    "   Variance = (0 + 25 + 25) / 3 = 16.67\n",
    "\n",
    "4. Take the square root of the variance to get the standard deviation:\n",
    "   Standard Deviation = sqrt(16.67) = 3.08 \n",
    "\n",
    "**Bailey's Scores:**\n",
    "1. Find the mean score:\n",
    "   Mean = (90 + 82 + 88) / 3 = 86.67\n",
    "\n",
    "2. Calculate the squared differences from the mean for each score:\n",
    "   (90 - 86.67)^2 = 11.11, (82 - 86.67)^2 = 21.78, (88 - 86.67)^2 = 1.11 \n",
    "\n",
    "3. Find the average of these squared differences:\n",
    "   Variance = (11.11 + 21.78 + 1.11) / 3 = 11.67 \n",
    "\n",
    "4. Take the square root of the variance to get the standard deviation:\n",
    "   Standard Deviation = sqrt(11.67) = 3.42 \n",
    "\n",
    "Now, let's see how standard deviation helps:\n",
    "\n",
    "- **Alex's Scores have a standard deviation of approximately 3.08:** This indicates that Alex's scores are not too spread out from the average (80). The standard deviation is relatively small.\n",
    "\n",
    "- **Bailey's Scores have a standard deviation of approximately 3.42:** This indicates that Bailey's scores are a bit more spread out from the average (86.67). The standard deviation is a bit larger.\n",
    "\n",
    "In summary, standard deviation helps us understand the variability or spread in a set of data. A higher standard deviation suggests more variability, while a lower standard deviation suggests less variability or more consistency. It gives us a sense of how much the individual scores deviate from the average."
   ]
  },
  {
   "cell_type": "markdown",
   "id": "d1d29e89",
   "metadata": {},
   "source": [
    "#### Import relevant libraries"
   ]
  },
  {
   "cell_type": "code",
   "execution_count": 1,
   "id": "0ae67507",
   "metadata": {},
   "outputs": [],
   "source": [
    "import numpy as np\n",
    "import pandas as pd"
   ]
  },
  {
   "cell_type": "markdown",
   "id": "8a0b3585",
   "metadata": {},
   "source": [
    "#### Load data into dataframe"
   ]
  },
  {
   "cell_type": "code",
   "execution_count": 2,
   "id": "3a02fac1",
   "metadata": {},
   "outputs": [],
   "source": [
    "covid_data = pd.read_csv(\"data/covid-data.csv\")"
   ]
  },
  {
   "cell_type": "markdown",
   "id": "229fd08c",
   "metadata": {},
   "source": [
    "#### Inspect the dataframe"
   ]
  },
  {
   "cell_type": "code",
   "execution_count": 3,
   "id": "9279d462",
   "metadata": {},
   "outputs": [
    {
     "data": {
      "text/html": [
       "<div>\n",
       "<style scoped>\n",
       "    .dataframe tbody tr th:only-of-type {\n",
       "        vertical-align: middle;\n",
       "    }\n",
       "\n",
       "    .dataframe tbody tr th {\n",
       "        vertical-align: top;\n",
       "    }\n",
       "\n",
       "    .dataframe thead th {\n",
       "        text-align: right;\n",
       "    }\n",
       "</style>\n",
       "<table border=\"1\" class=\"dataframe\">\n",
       "  <thead>\n",
       "    <tr style=\"text-align: right;\">\n",
       "      <th></th>\n",
       "      <th>iso_code</th>\n",
       "      <th>continent</th>\n",
       "      <th>location</th>\n",
       "      <th>date</th>\n",
       "      <th>total_cases</th>\n",
       "      <th>new_cases</th>\n",
       "      <th>new_cases_smoothed</th>\n",
       "      <th>total_deaths</th>\n",
       "      <th>new_deaths</th>\n",
       "      <th>new_deaths_smoothed</th>\n",
       "      <th>...</th>\n",
       "      <th>female_smokers</th>\n",
       "      <th>male_smokers</th>\n",
       "      <th>handwashing_facilities</th>\n",
       "      <th>hospital_beds_per_thousand</th>\n",
       "      <th>life_expectancy</th>\n",
       "      <th>human_development_index</th>\n",
       "      <th>excess_mortality_cumulative_absolute</th>\n",
       "      <th>excess_mortality_cumulative</th>\n",
       "      <th>excess_mortality</th>\n",
       "      <th>excess_mortality_cumulative_per_million</th>\n",
       "    </tr>\n",
       "  </thead>\n",
       "  <tbody>\n",
       "    <tr>\n",
       "      <th>0</th>\n",
       "      <td>AFG</td>\n",
       "      <td>Asia</td>\n",
       "      <td>Afghanistan</td>\n",
       "      <td>24/02/2020</td>\n",
       "      <td>5</td>\n",
       "      <td>5</td>\n",
       "      <td>NaN</td>\n",
       "      <td>NaN</td>\n",
       "      <td>NaN</td>\n",
       "      <td>NaN</td>\n",
       "      <td>...</td>\n",
       "      <td>NaN</td>\n",
       "      <td>NaN</td>\n",
       "      <td>37.746</td>\n",
       "      <td>0.5</td>\n",
       "      <td>64.83</td>\n",
       "      <td>0.511</td>\n",
       "      <td>NaN</td>\n",
       "      <td>NaN</td>\n",
       "      <td>NaN</td>\n",
       "      <td>NaN</td>\n",
       "    </tr>\n",
       "    <tr>\n",
       "      <th>1</th>\n",
       "      <td>AFG</td>\n",
       "      <td>Asia</td>\n",
       "      <td>Afghanistan</td>\n",
       "      <td>25/02/2020</td>\n",
       "      <td>5</td>\n",
       "      <td>0</td>\n",
       "      <td>NaN</td>\n",
       "      <td>NaN</td>\n",
       "      <td>NaN</td>\n",
       "      <td>NaN</td>\n",
       "      <td>...</td>\n",
       "      <td>NaN</td>\n",
       "      <td>NaN</td>\n",
       "      <td>37.746</td>\n",
       "      <td>0.5</td>\n",
       "      <td>64.83</td>\n",
       "      <td>0.511</td>\n",
       "      <td>NaN</td>\n",
       "      <td>NaN</td>\n",
       "      <td>NaN</td>\n",
       "      <td>NaN</td>\n",
       "    </tr>\n",
       "    <tr>\n",
       "      <th>2</th>\n",
       "      <td>AFG</td>\n",
       "      <td>Asia</td>\n",
       "      <td>Afghanistan</td>\n",
       "      <td>26/02/2020</td>\n",
       "      <td>5</td>\n",
       "      <td>0</td>\n",
       "      <td>NaN</td>\n",
       "      <td>NaN</td>\n",
       "      <td>NaN</td>\n",
       "      <td>NaN</td>\n",
       "      <td>...</td>\n",
       "      <td>NaN</td>\n",
       "      <td>NaN</td>\n",
       "      <td>37.746</td>\n",
       "      <td>0.5</td>\n",
       "      <td>64.83</td>\n",
       "      <td>0.511</td>\n",
       "      <td>NaN</td>\n",
       "      <td>NaN</td>\n",
       "      <td>NaN</td>\n",
       "      <td>NaN</td>\n",
       "    </tr>\n",
       "    <tr>\n",
       "      <th>3</th>\n",
       "      <td>AFG</td>\n",
       "      <td>Asia</td>\n",
       "      <td>Afghanistan</td>\n",
       "      <td>27/02/2020</td>\n",
       "      <td>5</td>\n",
       "      <td>0</td>\n",
       "      <td>NaN</td>\n",
       "      <td>NaN</td>\n",
       "      <td>NaN</td>\n",
       "      <td>NaN</td>\n",
       "      <td>...</td>\n",
       "      <td>NaN</td>\n",
       "      <td>NaN</td>\n",
       "      <td>37.746</td>\n",
       "      <td>0.5</td>\n",
       "      <td>64.83</td>\n",
       "      <td>0.511</td>\n",
       "      <td>NaN</td>\n",
       "      <td>NaN</td>\n",
       "      <td>NaN</td>\n",
       "      <td>NaN</td>\n",
       "    </tr>\n",
       "    <tr>\n",
       "      <th>4</th>\n",
       "      <td>AFG</td>\n",
       "      <td>Asia</td>\n",
       "      <td>Afghanistan</td>\n",
       "      <td>28/02/2020</td>\n",
       "      <td>5</td>\n",
       "      <td>0</td>\n",
       "      <td>NaN</td>\n",
       "      <td>NaN</td>\n",
       "      <td>NaN</td>\n",
       "      <td>NaN</td>\n",
       "      <td>...</td>\n",
       "      <td>NaN</td>\n",
       "      <td>NaN</td>\n",
       "      <td>37.746</td>\n",
       "      <td>0.5</td>\n",
       "      <td>64.83</td>\n",
       "      <td>0.511</td>\n",
       "      <td>NaN</td>\n",
       "      <td>NaN</td>\n",
       "      <td>NaN</td>\n",
       "      <td>NaN</td>\n",
       "    </tr>\n",
       "  </tbody>\n",
       "</table>\n",
       "<p>5 rows × 67 columns</p>\n",
       "</div>"
      ],
      "text/plain": [
       "  iso_code continent     location        date  total_cases  new_cases  \\\n",
       "0      AFG      Asia  Afghanistan  24/02/2020            5          5   \n",
       "1      AFG      Asia  Afghanistan  25/02/2020            5          0   \n",
       "2      AFG      Asia  Afghanistan  26/02/2020            5          0   \n",
       "3      AFG      Asia  Afghanistan  27/02/2020            5          0   \n",
       "4      AFG      Asia  Afghanistan  28/02/2020            5          0   \n",
       "\n",
       "   new_cases_smoothed  total_deaths  new_deaths  new_deaths_smoothed  ...  \\\n",
       "0                 NaN           NaN         NaN                  NaN  ...   \n",
       "1                 NaN           NaN         NaN                  NaN  ...   \n",
       "2                 NaN           NaN         NaN                  NaN  ...   \n",
       "3                 NaN           NaN         NaN                  NaN  ...   \n",
       "4                 NaN           NaN         NaN                  NaN  ...   \n",
       "\n",
       "   female_smokers  male_smokers  handwashing_facilities  \\\n",
       "0             NaN           NaN                  37.746   \n",
       "1             NaN           NaN                  37.746   \n",
       "2             NaN           NaN                  37.746   \n",
       "3             NaN           NaN                  37.746   \n",
       "4             NaN           NaN                  37.746   \n",
       "\n",
       "   hospital_beds_per_thousand  life_expectancy  human_development_index  \\\n",
       "0                         0.5            64.83                    0.511   \n",
       "1                         0.5            64.83                    0.511   \n",
       "2                         0.5            64.83                    0.511   \n",
       "3                         0.5            64.83                    0.511   \n",
       "4                         0.5            64.83                    0.511   \n",
       "\n",
       "   excess_mortality_cumulative_absolute  excess_mortality_cumulative  \\\n",
       "0                                   NaN                          NaN   \n",
       "1                                   NaN                          NaN   \n",
       "2                                   NaN                          NaN   \n",
       "3                                   NaN                          NaN   \n",
       "4                                   NaN                          NaN   \n",
       "\n",
       "   excess_mortality  excess_mortality_cumulative_per_million  \n",
       "0               NaN                                      NaN  \n",
       "1               NaN                                      NaN  \n",
       "2               NaN                                      NaN  \n",
       "3               NaN                                      NaN  \n",
       "4               NaN                                      NaN  \n",
       "\n",
       "[5 rows x 67 columns]"
      ]
     },
     "execution_count": 3,
     "metadata": {},
     "output_type": "execute_result"
    }
   ],
   "source": [
    "covid_data.head(5)\n"
   ]
  },
  {
   "cell_type": "code",
   "execution_count": 4,
   "id": "c791cc03",
   "metadata": {},
   "outputs": [],
   "source": [
    "covid_data = covid_data[['iso_code','continent','location','date','total_cases','new_cases']]"
   ]
  },
  {
   "cell_type": "code",
   "execution_count": 5,
   "id": "e478ab87",
   "metadata": {
    "scrolled": true
   },
   "outputs": [
    {
     "data": {
      "text/html": [
       "<div>\n",
       "<style scoped>\n",
       "    .dataframe tbody tr th:only-of-type {\n",
       "        vertical-align: middle;\n",
       "    }\n",
       "\n",
       "    .dataframe tbody tr th {\n",
       "        vertical-align: top;\n",
       "    }\n",
       "\n",
       "    .dataframe thead th {\n",
       "        text-align: right;\n",
       "    }\n",
       "</style>\n",
       "<table border=\"1\" class=\"dataframe\">\n",
       "  <thead>\n",
       "    <tr style=\"text-align: right;\">\n",
       "      <th></th>\n",
       "      <th>iso_code</th>\n",
       "      <th>continent</th>\n",
       "      <th>location</th>\n",
       "      <th>date</th>\n",
       "      <th>total_cases</th>\n",
       "      <th>new_cases</th>\n",
       "    </tr>\n",
       "  </thead>\n",
       "  <tbody>\n",
       "    <tr>\n",
       "      <th>0</th>\n",
       "      <td>AFG</td>\n",
       "      <td>Asia</td>\n",
       "      <td>Afghanistan</td>\n",
       "      <td>24/02/2020</td>\n",
       "      <td>5</td>\n",
       "      <td>5</td>\n",
       "    </tr>\n",
       "    <tr>\n",
       "      <th>1</th>\n",
       "      <td>AFG</td>\n",
       "      <td>Asia</td>\n",
       "      <td>Afghanistan</td>\n",
       "      <td>25/02/2020</td>\n",
       "      <td>5</td>\n",
       "      <td>0</td>\n",
       "    </tr>\n",
       "    <tr>\n",
       "      <th>2</th>\n",
       "      <td>AFG</td>\n",
       "      <td>Asia</td>\n",
       "      <td>Afghanistan</td>\n",
       "      <td>26/02/2020</td>\n",
       "      <td>5</td>\n",
       "      <td>0</td>\n",
       "    </tr>\n",
       "    <tr>\n",
       "      <th>3</th>\n",
       "      <td>AFG</td>\n",
       "      <td>Asia</td>\n",
       "      <td>Afghanistan</td>\n",
       "      <td>27/02/2020</td>\n",
       "      <td>5</td>\n",
       "      <td>0</td>\n",
       "    </tr>\n",
       "    <tr>\n",
       "      <th>4</th>\n",
       "      <td>AFG</td>\n",
       "      <td>Asia</td>\n",
       "      <td>Afghanistan</td>\n",
       "      <td>28/02/2020</td>\n",
       "      <td>5</td>\n",
       "      <td>0</td>\n",
       "    </tr>\n",
       "  </tbody>\n",
       "</table>\n",
       "</div>"
      ],
      "text/plain": [
       "  iso_code continent     location        date  total_cases  new_cases\n",
       "0      AFG      Asia  Afghanistan  24/02/2020            5          5\n",
       "1      AFG      Asia  Afghanistan  25/02/2020            5          0\n",
       "2      AFG      Asia  Afghanistan  26/02/2020            5          0\n",
       "3      AFG      Asia  Afghanistan  27/02/2020            5          0\n",
       "4      AFG      Asia  Afghanistan  28/02/2020            5          0"
      ]
     },
     "execution_count": 5,
     "metadata": {},
     "output_type": "execute_result"
    }
   ],
   "source": [
    "covid_data.head(5)"
   ]
  },
  {
   "cell_type": "code",
   "execution_count": 6,
   "id": "739239d6",
   "metadata": {
    "scrolled": true
   },
   "outputs": [
    {
     "data": {
      "text/plain": [
       "iso_code       object\n",
       "continent      object\n",
       "location       object\n",
       "date           object\n",
       "total_cases     int64\n",
       "new_cases       int64\n",
       "dtype: object"
      ]
     },
     "execution_count": 6,
     "metadata": {},
     "output_type": "execute_result"
    }
   ],
   "source": [
    "covid_data.dtypes"
   ]
  },
  {
   "cell_type": "code",
   "execution_count": 7,
   "id": "8bd2d882",
   "metadata": {},
   "outputs": [
    {
     "data": {
      "text/plain": [
       "(5818, 6)"
      ]
     },
     "execution_count": 7,
     "metadata": {},
     "output_type": "execute_result"
    }
   ],
   "source": [
    "covid_data.shape"
   ]
  },
  {
   "cell_type": "markdown",
   "id": "4ee3ec67",
   "metadata": {},
   "source": [
    "#### Identify the standard deviation of a dataset using the std method in numpy"
   ]
  },
  {
   "cell_type": "code",
   "execution_count": 8,
   "id": "b4e3e99e",
   "metadata": {},
   "outputs": [
    {
     "data": {
      "text/plain": [
       "21244.338444114834"
      ]
     },
     "execution_count": 8,
     "metadata": {},
     "output_type": "execute_result"
    }
   ],
   "source": [
    "data_sd = np.std(covid_data[\"new_cases\"])\n",
    "data_sd"
   ]
  },
  {
   "cell_type": "markdown",
   "id": "15f35cc2",
   "metadata": {},
   "source": [
    "#### Identify the standard deviation of a dataset using the std method in pandas"
   ]
  },
  {
   "cell_type": "code",
   "execution_count": 9,
   "id": "b30b23d3",
   "metadata": {},
   "outputs": [
    {
     "data": {
      "text/plain": [
       "21246.164421895"
      ]
     },
     "execution_count": 9,
     "metadata": {},
     "output_type": "execute_result"
    }
   ],
   "source": [
    "covid_data[\"new_cases\"].std()"
   ]
  }
 ],
 "metadata": {
  "kernelspec": {
   "display_name": "Python 3",
   "language": "python",
   "name": "python3"
  },
  "language_info": {
   "codemirror_mode": {
    "name": "ipython",
    "version": 3
   },
   "file_extension": ".py",
   "mimetype": "text/x-python",
   "name": "python",
   "nbconvert_exporter": "python",
   "pygments_lexer": "ipython3",
   "version": "3.7.1"
  }
 },
 "nbformat": 4,
 "nbformat_minor": 5
}
